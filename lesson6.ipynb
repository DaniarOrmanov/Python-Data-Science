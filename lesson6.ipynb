{
  "nbformat": 4,
  "nbformat_minor": 0,
  "metadata": {
    "colab": {
      "name": "lesson6.ipynb",
      "provenance": [],
      "collapsed_sections": [],
      "toc_visible": true
    },
    "kernelspec": {
      "name": "python3",
      "display_name": "Python 3"
    },
    "language_info": {
      "name": "python"
    }
  },
  "cells": [
    {
      "cell_type": "code",
      "metadata": {
        "id": "cWMZ05Mx1LbJ"
      },
      "source": [
        "# Тема “Обучение с учителем”"
      ],
      "execution_count": null,
      "outputs": []
    },
    {
      "cell_type": "markdown",
      "metadata": {
        "id": "J4xbvniB1b5H"
      },
      "source": [
        "### Задание 1\n",
        "Импортируйте библиотеки pandas и numpy.\n",
        "Загрузите \"Boston House Prices dataset\" из встроенных наборов данных библиотеки sklearn. Создайте датафреймы X и y из этих данных.\n",
        "Разбейте эти датафреймы на тренировочные (X_train, y_train) и тестовые (X_test, y_test) с помощью функции train_test_split так, чтобы размер тестовой выборки\n",
        "составлял 30% от всех данных, при этом аргумент random_state должен быть равен 42.\n",
        "Создайте модель линейной регрессии под названием lr с помощью класса LinearRegression из модуля sklearn.linear_model.\n",
        "Обучите модель на тренировочных данных (используйте все признаки) и сделайте предсказание на тестовых.\n",
        "Вычислите R2 полученных предказаний с помощью r2_score из модуля sklearn.metrics."
      ]
    },
    {
      "cell_type": "code",
      "metadata": {
        "colab": {
          "base_uri": "https://localhost:8080/"
        },
        "id": "77oWXw561i0e",
        "outputId": "b4e4a992-abdf-4cc8-fde1-b3a7fae41908"
      },
      "source": [
        "import numpy as np\n",
        "import pandas as pd\n",
        "from sklearn.datasets import load_boston\n",
        "from sklearn.model_selection import train_test_split\n",
        "from sklearn.linear_model import LinearRegression\n",
        "from sklearn.metrics import r2_score\n",
        "\n",
        "boston = load_boston()                                 \n",
        "data = boston['data']\n",
        "feature_names = boston['feature_names']\n",
        "target = boston['target']\n",
        "X = pd.DataFrame(data, columns=feature_names)\n",
        "print(f'Датафрейм X(признаки):\\n{X}')\n",
        "y = pd.DataFrame(target, columns=['price'])\n",
        "print(f'Датафрейм y(стоимость):\\n{y}')\n",
        "\n",
        "X_train, X_test, y_train, y_test = train_test_split(X, y, test_size=0.3, random_state=42)\n",
        "\n",
        "lr = LinearRegression()\n",
        "lr.fit(X_train, y_train)\n",
        "y_pred = lr.predict(X_test)\n",
        "check_test = pd.DataFrame({\n",
        "    'y_test': y_test['price'],\n",
        "    'y_pred': y_pred.flatten(),\n",
        "})\n",
        "print(f'Модель check_test:\\n{check_test}')\n",
        "check_test.head(10)\n",
        "r2_pred = r2_score(check_test['y_pred'], check_test['y_test'])\n",
        "print(f'Значение R2 = {r2_pred}')"
      ],
      "execution_count": 2,
      "outputs": [
        {
          "output_type": "stream",
          "text": [
            "Датафрейм X(признаки):\n",
            "        CRIM    ZN  INDUS  CHAS    NOX  ...  RAD    TAX  PTRATIO       B  LSTAT\n",
            "0    0.00632  18.0   2.31   0.0  0.538  ...  1.0  296.0     15.3  396.90   4.98\n",
            "1    0.02731   0.0   7.07   0.0  0.469  ...  2.0  242.0     17.8  396.90   9.14\n",
            "2    0.02729   0.0   7.07   0.0  0.469  ...  2.0  242.0     17.8  392.83   4.03\n",
            "3    0.03237   0.0   2.18   0.0  0.458  ...  3.0  222.0     18.7  394.63   2.94\n",
            "4    0.06905   0.0   2.18   0.0  0.458  ...  3.0  222.0     18.7  396.90   5.33\n",
            "..       ...   ...    ...   ...    ...  ...  ...    ...      ...     ...    ...\n",
            "501  0.06263   0.0  11.93   0.0  0.573  ...  1.0  273.0     21.0  391.99   9.67\n",
            "502  0.04527   0.0  11.93   0.0  0.573  ...  1.0  273.0     21.0  396.90   9.08\n",
            "503  0.06076   0.0  11.93   0.0  0.573  ...  1.0  273.0     21.0  396.90   5.64\n",
            "504  0.10959   0.0  11.93   0.0  0.573  ...  1.0  273.0     21.0  393.45   6.48\n",
            "505  0.04741   0.0  11.93   0.0  0.573  ...  1.0  273.0     21.0  396.90   7.88\n",
            "\n",
            "[506 rows x 13 columns]\n",
            "Датафрейм y(стоимость):\n",
            "     price\n",
            "0     24.0\n",
            "1     21.6\n",
            "2     34.7\n",
            "3     33.4\n",
            "4     36.2\n",
            "..     ...\n",
            "501   22.4\n",
            "502   20.6\n",
            "503   23.9\n",
            "504   22.0\n",
            "505   11.9\n",
            "\n",
            "[506 rows x 1 columns]\n",
            "Модель check_test:\n",
            "     y_test     y_pred\n",
            "173    23.6  28.648960\n",
            "274    32.4  36.495014\n",
            "491    13.6  15.411193\n",
            "72     22.8  25.403213\n",
            "452    16.1  18.855280\n",
            "..      ...        ...\n",
            "441    17.1  17.403672\n",
            "23     14.5  13.385941\n",
            "225    50.0  39.983425\n",
            "433    14.3  16.682863\n",
            "447    12.6  18.285618\n",
            "\n",
            "[152 rows x 2 columns]\n",
            "Значение R2 = 0.6693702691495629\n"
          ],
          "name": "stdout"
        }
      ]
    },
    {
      "cell_type": "markdown",
      "metadata": {
        "id": "QRdSG4b0MGDc"
      },
      "source": [
        "### Задание 2\n",
        "Создайте модель под названием model с помощью RandomForestRegressor из модуля sklearn.ensemble.\n",
        "Сделайте агрумент n_estimators равным 1000,\n",
        "max_depth должен быть равен 12 и random_state сделайте равным 42.\n",
        "Обучите модель на тренировочных данных аналогично тому, как вы обучали модель LinearRegression,\n",
        "но при этом в метод fit вместо датафрейма y_train поставьте y_train.values[:, 0],\n",
        "чтобы получить из датафрейма одномерный массив Numpy,\n",
        "так как для класса RandomForestRegressor в данном методе для аргумента y предпочтительно применение массивов вместо датафрейма.\n",
        "Сделайте предсказание на тестовых данных и посчитайте R2. Сравните с результатом из предыдущего задания.\n",
        "Напишите в комментариях к коду, какая модель в данном случае работает лучше."
      ]
    },
    {
      "cell_type": "code",
      "metadata": {
        "colab": {
          "base_uri": "https://localhost:8080/"
        },
        "id": "522Ft340MIP8",
        "outputId": "62fa81a2-793c-4733-da2e-d3153c79e6a3"
      },
      "source": [
        "from sklearn.ensemble import RandomForestRegressor\n",
        "\n",
        "model = RandomForestRegressor(n_estimators=1000, max_depth=12, random_state=42)\n",
        "model.fit(X_train, y_train.values[:, 0])\n",
        "y_pred = model.predict(X_test)\n",
        "check_test = pd.DataFrame({\n",
        "    'y_test': y_test['price'],\n",
        "    'y_pred': y_pred.flatten(),\n",
        "})\n",
        "print(f'Модель check_test:\\n{check_test}')\n",
        "check_test.head(10)\n",
        "r2_pred = r2_score(check_test['y_pred'], check_test['y_test'])\n",
        "print(f'Значение R2 = {r2_pred}')"
      ],
      "execution_count": 6,
      "outputs": [
        {
          "output_type": "stream",
          "text": [
            "Модель check_test:\n",
            "     y_test     y_pred\n",
            "173    23.6  22.846138\n",
            "274    32.4  31.156114\n",
            "491    13.6  16.297226\n",
            "72     22.8  23.821036\n",
            "452    16.1  17.212148\n",
            "..      ...        ...\n",
            "441    17.1  13.487707\n",
            "23     14.5  15.132395\n",
            "225    50.0  42.910700\n",
            "433    14.3  15.634989\n",
            "447    12.6  16.096549\n",
            "\n",
            "[152 rows x 2 columns]\n",
            "Значение R2 = 0.8481499145965063\n"
          ],
          "name": "stdout"
        }
      ]
    },
    {
      "cell_type": "markdown",
      "metadata": {
        "id": "oqpeYjqmHkoY"
      },
      "source": [
        "Не совсем понял два эти задания. Кажется, что коэффициент детерминации R2 показывает, насколько точно предсказаны новые данные по данным из модели. Чем больше этот коэффициент, тем лучше предсказание. Т.е. во втором случае данные предсказаны точнее.\n",
        "Остальное не успел сделать."
      ]
    }
  ]
}